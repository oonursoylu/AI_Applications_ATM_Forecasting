{
 "cells": [
  {
   "cell_type": "markdown",
   "metadata": {
    "id": "W8ctqddag1lX"
   },
   "source": [
    "Library Import and Pandas Options"
   ]
  },
  {
   "cell_type": "code",
   "execution_count": null,
   "metadata": {
    "id": "w1TRPW-LeQws"
   },
   "outputs": [],
   "source": [
    "import pandas as pd\n",
    "import matplotlib.pyplot as plt\n",
    "import seaborn as sns\n",
    "from pandas import date_range\n",
    "import numpy as np\n",
    "\n",
    "\n",
    "# Show all columns\n",
    "pd.set_option('display.max_columns', 100)\n",
    "# Show all rows (if needed, or set a limit)\n",
    "pd.set_option('display.max_rows', 100)\n",
    "# Disable line wrapping (prevent splitting columns into multiple lines)\n",
    "pd.set_option('display.width', 100)\n",
    "# Increase column width so data is not cut off\n",
    "pd.set_option('display.max_colwidth', 50)"
   ]
  },
  {
   "cell_type": "markdown",
   "metadata": {
    "id": "ZEeABbWohADh"
   },
   "source": [
    "Data Loading"
   ]
  },
  {
   "cell_type": "code",
   "execution_count": null,
   "metadata": {
    "id": "xJH4HwHxhGD4"
   },
   "outputs": [],
   "source": [
    "# Load Sheet from Excel\n",
    "all_sheets = pd.read_excel(\"2024-12-09_ATM_Branch_Data.xlsx\", sheet_name=None)\n",
    "\n",
    "# Define sheet names\n",
    "atm =all_sheets['ATM']\n",
    "events_holidays=all_sheets['Events_Holidays']\n"
   ]
  },
  {
   "cell_type": "markdown",
   "metadata": {
    "id": "nY9Os8IZhKea"
   },
   "source": [
    "Adding Active Days"
   ]
  },
  {
   "cell_type": "code",
   "execution_count": null,
   "metadata": {
    "colab": {
     "base_uri": "https://localhost:8080/"
    },
    "id": "KIDoxZ6XeZ33",
    "outputId": "9c547c31-f1fd-400a-ffff-2e70ec1850b4"
   },
   "outputs": [],
   "source": [
    "# Adding active flag to ATMs\n",
    "def add_is_active_flag(atm_df: pd.DataFrame,\n",
    "                       id_col: str = \"CASHP_ID\",\n",
    "                       date_col: str = \"DATE\",\n",
    "                       y_col: str = \"WITHDRWLS\",\n",
    "                       flag_name: str = \"is_active\") -> pd.DataFrame:\n",
    "    def _mark(group):\n",
    "        group = group.sort_values(date_col)\n",
    "        group[flag_name] = (group[y_col].gt(0)).cumsum().clip(upper=1).astype(int)\n",
    "        return group\n",
    "\n",
    "    return atm_df.groupby(id_col, group_keys=False).apply(_mark)\n",
    "\n",
    "atm = add_is_active_flag(atm)"
   ]
  },
  {
   "cell_type": "markdown",
   "metadata": {
    "id": "qQBFiWkohQ-J"
   },
   "source": [
    "Statistical Analysis of ATM Data"
   ]
  },
  {
   "cell_type": "code",
   "execution_count": null,
   "metadata": {
    "colab": {
     "base_uri": "https://localhost:8080/"
    },
    "id": "eAOIjyPAeZ7R",
    "outputId": "afb11bdc-c82b-4910-a66d-d57b298bb9a0"
   },
   "outputs": [],
   "source": [
    "# ATM\n",
    "atm_stats = atm.groupby('CASHP_ID')['WITHDRWLS'].agg(['count', 'sum', 'mean', 'median', 'std', 'min', 'max']).reset_index()\n",
    "atm_stats.columns = ['CASHP_ID', 'Count', 'Total_WITHDRWLS', 'Mean', 'Median', 'Std_Dev', 'Min', 'Max']\n",
    "print(atm_stats)"
   ]
  },
  {
   "cell_type": "markdown",
   "metadata": {
    "id": "swS5WTJrhdsf"
   },
   "source": [
    "Single ATM Averages"
   ]
  },
  {
   "cell_type": "code",
   "execution_count": null,
   "metadata": {
    "colab": {
     "base_uri": "https://localhost:8080/",
     "height": 1000
    },
    "id": "WkKlvQjCeZ-J",
    "outputId": "aa49b0ef-a88a-42d7-8b22-cfed77087410"
   },
   "outputs": [],
   "source": [
    "# Grouping (WITH zeros)\n",
    "atm_grouped_with_zeros = (\n",
    "    atm.groupby('CASHP_ID')['WITHDRWLS']\n",
    "    .mean()\n",
    "    .reset_index()\n",
    "    .rename(columns={'WITHDRWLS': 'WITH_zeros'})\n",
    ")\n",
    "\n",
    "# Grouping (WITHOUT zeros)\n",
    "atm_grouped_without_zeros = (\n",
    "    atm.loc[atm['WITHDRWLS'] > 0]\n",
    "    .groupby('CASHP_ID')['WITHDRWLS']\n",
    "    .mean()\n",
    "    .reset_index()\n",
    "    .rename(columns={'WITHDRWLS': 'WITHOUT_zeros'})\n",
    ")\n",
    "\n",
    "# Plot 1: Average ATM Withdrawals (WITH zeros)\n",
    "plt.figure(figsize=(12, 6))\n",
    "sns.barplot(data=atm_grouped_with_zeros, x='CASHP_ID', y='WITH_zeros', palette='Blues_d')\n",
    "plt.title('Average ATM Withdrawals per CASHP_ID (WITH zeros)')\n",
    "plt.xlabel('CASHP_ID')\n",
    "plt.ylabel('Average Withdrawal')\n",
    "plt.xticks(rotation=45)\n",
    "plt.tight_layout()\n",
    "plt.savefig(\"avg_withdrawals_atm_WITH_zeros.png\", dpi=600, bbox_inches=\"tight\")\n",
    "plt.show()\n",
    "\n",
    "# Plot 2: Average ATM Withdrawals (WITHOUT zeros)\n",
    "plt.figure(figsize=(12, 6))\n",
    "sns.barplot(data=atm_grouped_without_zeros, x='CASHP_ID', y='WITHOUT_zeros', palette='Purples_d')\n",
    "plt.title('Average ATM Withdrawals per CASHP_ID (WITHOUT zeros)')\n",
    "plt.xlabel('CASHP_ID')\n",
    "plt.ylabel('Average Withdrawal')\n",
    "plt.xticks(rotation=45)\n",
    "plt.tight_layout()\n",
    "plt.savefig(\"avg_withdrawals_atm_WITHOUT_zeros.png\", dpi=600, bbox_inches=\"tight\")\n",
    "plt.show()\n",
    "\n",
    "\n"
   ]
  },
  {
   "cell_type": "markdown",
   "metadata": {
    "id": "PssCaPxAhjYG"
   },
   "source": [
    "Holiday Addition to Data"
   ]
  },
  {
   "cell_type": "code",
   "execution_count": null,
   "metadata": {
    "id": "rVuVInGM7AkL"
   },
   "outputs": [],
   "source": [
    "# Special Day means holidays in the year\n",
    "special_days = [\n",
    "    '2006-01-01', '2006-01-10', '2006-01-11', '2006-01-12', '2006-01-13',\n",
    "    '2006-04-23', '2006-05-19', '2006-08-30', '2006-10-23', '2006-10-24', '2006-10-25',\n",
    "    '2006-10-29', '2006-12-31',\n",
    "\n",
    "    '2007-01-01', '2007-01-02', '2007-01-03', '2007-04-23', '2007-05-19',\n",
    "    '2007-08-30', '2007-10-12', '2007-10-13', '2007-10-14', '2007-10-29',\n",
    "    '2007-12-20', '2007-12-21', '2007-12-22', '2007-12-23', '2007-12-31',\n",
    "\n",
    "    '2008-01-01', '2008-04-23', '2008-05-19', '2008-08-30',\n",
    "    '2008-09-30', '2008-10-01', '2008-10-02', '2008-10-29',\n",
    "    '2008-12-08', '2008-12-09', '2008-12-10', '2008-12-11', '2008-12-31'\n",
    "]\n",
    "\n",
    "school_holidays = list(date_range('2006-01-16', '2006-01-29', freq='D')) + \\\n",
    "                  list(date_range('2006-06-12', '2006-09-11', freq='D')) + \\\n",
    "                  list(date_range('2007-01-29', '2007-02-09', freq='D')) + \\\n",
    "                  list(date_range('2007-06-19', '2007-09-17', freq='D')) + \\\n",
    "                  list(date_range('2008-01-29', '2008-02-08', freq='D')) + \\\n",
    "                  list(date_range('2008-06-16', '2008-09-12', freq='D'))\n",
    "\n",
    "school_holidays = [d.strftime('%Y-%m-%d') for d in school_holidays]\n",
    "\n",
    "# These are half working days.\n",
    "half_days = [\n",
    "    '2006-01-09', '2006-10-22', '2006-12-30',\n",
    "    '2007-10-11', '2007-12-19',\n",
    "    '2008-09-29', '2008-12-07'\n",
    "]\n",
    "\n",
    "df_special = pd.DataFrame({'date': special_days, 'type': 'official_holiday'})\n",
    "df_school = pd.DataFrame({'date': school_holidays, 'type': 'school_holiday'})\n",
    "df_half = pd.DataFrame({'date': half_days, 'type': 'half_day'})\n",
    "\n",
    "custom_events = pd.concat([df_special, df_school, df_half], ignore_index=True)\n",
    "custom_events['date'] = pd.to_datetime(custom_events['date'])\n",
    "custom_events = custom_events.drop_duplicates()"
   ]
  },
  {
   "cell_type": "markdown",
   "metadata": {
    "id": "3ev96gOkh5zu"
   },
   "source": [
    "Average Withdrawals in Holidays, Half Days and Normal Days"
   ]
  },
  {
   "cell_type": "code",
   "execution_count": null,
   "metadata": {
    "colab": {
     "base_uri": "https://localhost:8080/",
     "height": 781
    },
    "id": "S344av8y7Anl",
    "outputId": "a7a349a2-5e93-4637-ce63-0d5d60eae19d"
   },
   "outputs": [],
   "source": [
    "atm['DATE'] = pd.to_datetime(atm['DATE'])\n",
    "atm_merged = atm.merge(custom_events, left_on='DATE', right_on='date', how='left')\n",
    "atm_merged['day_type'] = atm_merged['type'].fillna('normal_day')\n",
    "\n",
    "# Exclude zero-withdrawal days\n",
    "atm_merged = atm_merged[atm_merged['WITHDRWLS'] > 0]\n",
    "\n",
    "day_type_summary = atm_merged.groupby('day_type')['WITHDRWLS'].agg(['mean', 'median', 'std', 'count']).reset_index()\n",
    "print(day_type_summary)\n",
    "\n",
    "plt.figure(figsize=(10, 6))\n",
    "sns.barplot(data=day_type_summary, x='day_type', y='mean', palette='Set2')\n",
    "plt.title('Average Withdrawals: Holiday vs. Normal Day')\n",
    "plt.xlabel('Day Type')\n",
    "plt.ylabel('Average Withdrawals')\n",
    "plt.xticks(rotation=30)\n",
    "plt.grid(axis='y', linestyle='--', alpha=0.7)\n",
    "plt.tight_layout()\n",
    "\n",
    "# Save PNG\n",
    "plt.savefig(\"avg_withdrawals_day_type.png\", dpi=600, bbox_inches=\"tight\")\n",
    "plt.show()"
   ]
  },
  {
   "cell_type": "markdown",
   "metadata": {
    "id": "354VwmpgiGX0"
   },
   "source": [
    "Weekday Averages"
   ]
  },
  {
   "cell_type": "code",
   "execution_count": null,
   "metadata": {
    "colab": {
     "base_uri": "https://localhost:8080/",
     "height": 626
    },
    "id": "jct_XXHL7ArN",
    "outputId": "394dbcf2-2066-41f8-bf00-12581c5a9e0d"
   },
   "outputs": [],
   "source": [
    "# Exclude zero-withdrawal days\n",
    "atm_nz = atm[atm['WITHDRWLS'] > 0].copy()\n",
    "\n",
    "# Weekday summary on non-zero days\n",
    "atm_nz['weekday'] = atm_nz['DATE'].dt.day_name()\n",
    "weekday_summary = atm_nz.groupby('weekday')['WITHDRWLS'].agg(['mean', 'median', 'std', 'count']).reset_index()\n",
    "\n",
    "weekday_order = ['Monday', 'Tuesday', 'Wednesday', 'Thursday', 'Friday', 'Saturday', 'Sunday']\n",
    "weekday_summary['weekday'] = pd.Categorical(weekday_summary['weekday'], categories=weekday_order, ordered=True)\n",
    "weekday_summary = weekday_summary.sort_values('weekday')\n",
    "\n",
    "print(weekday_summary)\n",
    "\n",
    "sns.barplot(data=weekday_summary, x='weekday', y='mean')\n",
    "plt.title(\"average withdrawal (non-zero days)\")\n",
    "plt.ylabel(\"mean amount\")\n",
    "plt.xlabel(\"Day\")\n",
    "plt.xticks(rotation=45)\n",
    "plt.tight_layout()\n",
    "\n",
    "# Save PNG\n",
    "plt.savefig(\"avg_withdrawals_by_weekday_nozeros.png\", dpi=600, bbox_inches=\"tight\")\n",
    "plt.show()\n"
   ]
  },
  {
   "cell_type": "markdown",
   "metadata": {
    "id": "jJnmB4-MiJbV"
   },
   "source": [
    "Month Day Averages"
   ]
  },
  {
   "cell_type": "code",
   "execution_count": null,
   "metadata": {
    "colab": {
     "base_uri": "https://localhost:8080/",
     "height": 694
    },
    "id": "5M66ai_87AyB",
    "outputId": "2f6b2098-0941-4952-bef0-307351d45ee5"
   },
   "outputs": [],
   "source": [
    "# Convert to datetime and exclude zero-withdrawal days\n",
    "atm['DATE'] = pd.to_datetime(atm['DATE'], errors='coerce')\n",
    "atm_nz = atm[atm['WITHDRWLS'] > 0].copy()\n",
    "\n",
    "# Day-of-month summary (non-zero days only)\n",
    "atm_nz['day_of_month'] = atm_nz['DATE'].dt.day\n",
    "day_summary = (\n",
    "    atm_nz.groupby('day_of_month')['WITHDRWLS']\n",
    "    .agg(['mean', 'median', 'std', 'count'])\n",
    "    .reset_index()\n",
    ")\n",
    "\n",
    "# Plot + PNG export\n",
    "plt.figure(figsize=(14, 6))\n",
    "sns.barplot(\n",
    "    data=day_summary,\n",
    "    x='day_of_month',\n",
    "    y='mean',\n",
    "    order=list(range(1, 32)),\n",
    "    palette='viridis'\n",
    ")\n",
    "plt.title('Average Withdrawals by Day of the Month (Non-zero Days)')\n",
    "plt.xlabel('Day of Month (1–31)')\n",
    "plt.ylabel('Average Withdrawals')\n",
    "plt.xticks(range(1, 32))\n",
    "plt.grid(axis='y', linestyle='--', alpha=0.7)\n",
    "plt.tight_layout()\n",
    "plt.savefig(\"avg_withdrawals_by_day_of_month_nozeros.png\", dpi=600, bbox_inches=\"tight\")\n",
    "plt.show()\n"
   ]
  },
  {
   "cell_type": "markdown",
   "metadata": {
    "id": "84xgA21BiMqG"
   },
   "source": [
    "Active Period Analysis"
   ]
  },
  {
   "cell_type": "code",
   "execution_count": null,
   "metadata": {
    "colab": {
     "base_uri": "https://localhost:8080/",
     "height": 546
    },
    "id": "cqizC05o7A02",
    "outputId": "e7413fda-2bae-471b-e967-f411ff947454"
   },
   "outputs": [],
   "source": [
    "atm_merged['is_weekend'] = atm_merged['DATE'].dt.weekday >= 5\n",
    "atm_merged['is_special_day'] = atm_merged['day_type'] != 'normal_day'\n",
    "atm_merged['is_non_working_day'] = atm_merged['is_weekend'] | atm_merged['is_special_day']\n",
    "\n",
    "# Subset only non-working days\n",
    "non_working_days = atm_merged[atm_merged['is_non_working_day']]\n",
    "\n",
    "# Find ATMs with total withdrawals = 0 on ALL non-working days\n",
    "no_activity_atms = (\n",
    "    non_working_days.groupby(\"CASHP_ID\")[\"WITHDRWLS\"]\n",
    "    .sum()\n",
    "    .reset_index()\n",
    ")\n",
    "no_activity_atms = no_activity_atms[no_activity_atms[\"WITHDRWLS\"] == 0]\n",
    "\n",
    "print(\"Number of ATMs with no activity on any non-working day:\", no_activity_atms.shape[0])\n",
    "print(\"ATM IDs:\\n\", no_activity_atms[\"CASHP_ID\"].tolist())\n",
    "\n",
    "# merge with full ATM list to show active vs inactive\n",
    "all_atms = atm_merged[\"CASHP_ID\"].unique()\n",
    "activity_status = pd.DataFrame({'CASHP_ID': all_atms})\n",
    "activity_status['inactive_on_non_working_days'] = activity_status['CASHP_ID'].isin(no_activity_atms['CASHP_ID'])\n",
    "\n",
    "# Visualize count\n",
    "plt.figure(figsize=(6, 4))\n",
    "sns.countplot(data=activity_status, x='inactive_on_non_working_days', palette='Set2')\n",
    "plt.title('ATM Activity on Non-working Days')\n",
    "plt.xlabel('Inactive on Weekends/Holidays?')\n",
    "plt.ylabel('Number of ATMs')\n",
    "plt.xticks([0, 1], ['Active', 'Inactive'])\n",
    "plt.tight_layout()\n",
    "plt.show()"
   ]
  },
  {
   "cell_type": "markdown",
   "metadata": {
    "id": "PYFzOcZNiP8S"
   },
   "source": [
    "Monthly Averages"
   ]
  },
  {
   "cell_type": "code",
   "execution_count": null,
   "metadata": {
    "colab": {
     "base_uri": "https://localhost:8080/",
     "height": 694
    },
    "id": "KisoK_Sc7A35",
    "outputId": "0433ce81-dd8f-4990-f36a-80e265b8883d"
   },
   "outputs": [],
   "source": [
    "# Exclude zero-withdrawal days\n",
    "atm_nz = atm[atm['WITHDRWLS'] > 0].copy()\n",
    "\n",
    "# Extract month\n",
    "atm_nz['month'] = atm_nz['DATE'].dt.month\n",
    "\n",
    "# Group by month\n",
    "month_summary = (\n",
    "    atm_nz.groupby('month')['WITHDRWLS']\n",
    "    .agg(['mean', 'median', 'std', 'count'])\n",
    "    .reset_index()\n",
    ")\n",
    "\n",
    "# Plotting\n",
    "plt.figure(figsize=(12, 6))\n",
    "sns.barplot(data=month_summary, x='month', y='mean', palette='coolwarm')\n",
    "plt.title('Average Withdrawals by Month (Non-zero Days)')\n",
    "plt.xlabel('Month')\n",
    "plt.ylabel('Average Withdrawals')\n",
    "plt.xticks(\n",
    "    range(0, 12),\n",
    "    ['Jan', 'Feb', 'Mar', 'Apr', 'May', 'Jun',\n",
    "     'Jul', 'Aug', 'Sep', 'Oct', 'Nov', 'Dec']\n",
    ")\n",
    "plt.grid(axis='y', linestyle='--', alpha=0.7)\n",
    "plt.tight_layout()\n",
    "plt.savefig(\"avg_withdrawals_by_month_nozeros.png\", dpi=600, bbox_inches=\"tight\")\n",
    "plt.show()\n"
   ]
  },
  {
   "cell_type": "markdown",
   "metadata": {
    "id": "4sOEDq_diSOo"
   },
   "source": [
    "Clustering Visualization"
   ]
  },
  {
   "cell_type": "code",
   "execution_count": null,
   "metadata": {
    "colab": {
     "base_uri": "https://localhost:8080/",
     "height": 1000
    },
    "id": "6r49bJY6eaEW",
    "outputId": "cb33733e-f696-420e-99de-e7fd2bee0ccd"
   },
   "outputs": [],
   "source": [
    "# KMeans clustering with barplot visualization (is_active == 1 only)\n",
    "from sklearn.cluster import KMeans\n",
    "\n",
    "# Build ATM profiles (avg withdrawals only on active days)\n",
    "atm_active = atm[atm[\"is_active\"] == 1].copy()\n",
    "atm_profiles = (\n",
    "    atm_active.groupby(\"CASHP_ID\")[\"WITHDRWLS\"]\n",
    "    .mean()\n",
    "    .reset_index()\n",
    "    .rename(columns={\"WITHDRWLS\": \"avg_withdrawals\"})\n",
    ")\n",
    "\n",
    "# Run clustering for k = 2, 3, 4\n",
    "for k in (2, 3, 4):\n",
    "    X = atm_profiles[[\"avg_withdrawals\"]].values\n",
    "    kmeans = KMeans(n_clusters=k, random_state=42, n_init=10)\n",
    "    atm_profiles[f\"cluster_{k}\"] = kmeans.fit_predict(X)\n",
    "\n",
    "    # Sort by avg_withdrawals for nicer plotting\n",
    "    plot_df = atm_profiles.sort_values(\"avg_withdrawals\").copy()\n",
    "\n",
    "    # Barplot visualization\n",
    "    plt.figure(figsize=(14, 6))\n",
    "    sns.barplot(\n",
    "        data=plot_df,\n",
    "        x=\"CASHP_ID\",\n",
    "        y=\"avg_withdrawals\",\n",
    "        hue=f\"cluster_{k}\",\n",
    "        dodge=False,\n",
    "        palette=\"tab10\"\n",
    "    )\n",
    "    plt.title(f\"KMeans clustering on avg_withdrawals (is_active=1) — k={k}\")\n",
    "    plt.xlabel(\"ATM ID\")\n",
    "    plt.ylabel(\"Average Withdrawals\")\n",
    "    plt.xticks(rotation=90)\n",
    "    plt.legend(title=f\"Cluster {k}\")\n",
    "    plt.grid(axis=\"y\", linestyle=\"--\", alpha=0.7)\n",
    "    plt.tight_layout()\n",
    "\n",
    "    out_png = f\"kmeans_active_avg_k{k}_bar.png\"\n",
    "    plt.savefig(out_png, dpi=600, bbox_inches=\"tight\")\n",
    "    plt.show()\n",
    "    print(f\"Saved {out_png}\")\n"
   ]
  }
 ],
 "metadata": {
  "colab": {
   "provenance": []
  },
  "kernelspec": {
   "display_name": "Python 3",
   "name": "python3"
  },
  "language_info": {
   "name": "python"
  }
 },
 "nbformat": 4,
 "nbformat_minor": 0
}
